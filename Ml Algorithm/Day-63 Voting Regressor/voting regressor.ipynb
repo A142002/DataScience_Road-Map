{
 "cells": [
  {
   "cell_type": "code",
   "execution_count": 3,
   "id": "478bbfef",
   "metadata": {},
   "outputs": [],
   "source": [
    "from sklearn.datasets import load_diabetes\n",
    "import numpy as np"
   ]
  },
  {
   "cell_type": "code",
   "execution_count": 5,
   "id": "ab833aa4",
   "metadata": {},
   "outputs": [],
   "source": [
    "X,y=load_diabetes(return_X_y=True)"
   ]
  },
  {
   "cell_type": "code",
   "execution_count": 7,
   "id": "fed35b2f",
   "metadata": {},
   "outputs": [
    {
     "data": {
      "text/plain": [
       "(442, 10)"
      ]
     },
     "execution_count": 7,
     "metadata": {},
     "output_type": "execute_result"
    }
   ],
   "source": [
    "X.shape"
   ]
  },
  {
   "cell_type": "code",
   "execution_count": 8,
   "id": "1074c8e8",
   "metadata": {},
   "outputs": [
    {
     "data": {
      "text/plain": [
       "(442,)"
      ]
     },
     "execution_count": 8,
     "metadata": {},
     "output_type": "execute_result"
    }
   ],
   "source": [
    "y.shape"
   ]
  },
  {
   "cell_type": "code",
   "execution_count": 9,
   "id": "b746e97f",
   "metadata": {},
   "outputs": [
    {
     "data": {
      "text/plain": [
       "array([[ 0.03807591,  0.05068012,  0.06169621, ..., -0.00259226,\n",
       "         0.01990749, -0.01764613],\n",
       "       [-0.00188202, -0.04464164, -0.05147406, ..., -0.03949338,\n",
       "        -0.06833155, -0.09220405],\n",
       "       [ 0.08529891,  0.05068012,  0.04445121, ..., -0.00259226,\n",
       "         0.00286131, -0.02593034],\n",
       "       ...,\n",
       "       [ 0.04170844,  0.05068012, -0.01590626, ..., -0.01107952,\n",
       "        -0.04688253,  0.01549073],\n",
       "       [-0.04547248, -0.04464164,  0.03906215, ...,  0.02655962,\n",
       "         0.04452873, -0.02593034],\n",
       "       [-0.04547248, -0.04464164, -0.0730303 , ..., -0.03949338,\n",
       "        -0.00422151,  0.00306441]])"
      ]
     },
     "execution_count": 9,
     "metadata": {},
     "output_type": "execute_result"
    }
   ],
   "source": [
    "X"
   ]
  },
  {
   "cell_type": "code",
   "execution_count": 11,
   "id": "0027bd0b",
   "metadata": {},
   "outputs": [],
   "source": [
    "from sklearn.linear_model import LinearRegression\n",
    "from sklearn.tree import DecisionTreeRegressor\n",
    "from sklearn.svm import SVR\n",
    "from sklearn.model_selection import cross_val_score"
   ]
  },
  {
   "cell_type": "code",
   "execution_count": 13,
   "id": "11e59de0",
   "metadata": {},
   "outputs": [],
   "source": [
    "lr = LinearRegression()\n",
    "dt = DecisionTreeRegressor()\n",
    "svr = SVR()\n",
    "\n",
    "estimators = [('lr', lr), ('dt', dt), ('svr', svr)]"
   ]
  },
  {
   "cell_type": "code",
   "execution_count": 15,
   "id": "192e8300",
   "metadata": {},
   "outputs": [
    {
     "name": "stdout",
     "output_type": "stream",
     "text": [
      "lr 0.46\n",
      "dt -0.21\n",
      "svr 0.15\n"
     ]
    }
   ],
   "source": [
    "for estimator in estimators:\n",
    "    scores = cross_val_score(estimator[1], X, y, scoring='r2', cv=10)\n",
    "    print(estimator[0], np.round(np.mean(scores), 2))"
   ]
  },
  {
   "cell_type": "code",
   "execution_count": 17,
   "id": "17dfa76b",
   "metadata": {},
   "outputs": [],
   "source": [
    "from sklearn.ensemble import VotingRegressor\n"
   ]
  },
  {
   "cell_type": "code",
   "execution_count": 18,
   "id": "b3a230be",
   "metadata": {},
   "outputs": [
    {
     "name": "stdout",
     "output_type": "stream",
     "text": [
      "Voting Regressor 0.35\n"
     ]
    }
   ],
   "source": [
    "vr = VotingRegressor(estimators)\n",
    "scores = cross_val_score(vr, X, y, scoring='r2', cv=10)\n",
    "print(\"Voting Regressor\", np.round(np.mean(scores), 2))"
   ]
  },
  {
   "cell_type": "markdown",
   "id": "faa1d4ff",
   "metadata": {},
   "source": [
    "### weights\n"
   ]
  },
  {
   "cell_type": "code",
   "execution_count": 19,
   "id": "2a68d72e",
   "metadata": {},
   "outputs": [
    {
     "name": "stdout",
     "output_type": "stream",
     "text": [
      "For i=1, j=1, k=1 0.35\n",
      "For i=1, j=1, k=2 0.33\n",
      "For i=1, j=1, k=3 0.32\n",
      "For i=1, j=2, k=1 0.28\n",
      "For i=1, j=2, k=2 0.28\n",
      "For i=1, j=2, k=3 0.3\n",
      "For i=1, j=3, k=1 0.15\n",
      "For i=1, j=3, k=2 0.23\n",
      "For i=1, j=3, k=3 0.26\n",
      "For i=2, j=1, k=1 0.4\n",
      "For i=2, j=1, k=2 0.38\n",
      "For i=2, j=1, k=3 0.36\n",
      "For i=2, j=2, k=1 0.32\n",
      "For i=2, j=2, k=2 0.34\n",
      "For i=2, j=2, k=3 0.35\n",
      "For i=2, j=3, k=1 0.26\n",
      "For i=2, j=3, k=2 0.28\n",
      "For i=2, j=3, k=3 0.31\n",
      "For i=3, j=1, k=1 0.42\n",
      "For i=3, j=1, k=2 0.41\n",
      "For i=3, j=1, k=3 0.4\n",
      "For i=3, j=2, k=1 0.37\n",
      "For i=3, j=2, k=2 0.38\n",
      "For i=3, j=2, k=3 0.38\n",
      "For i=3, j=3, k=1 0.32\n",
      "For i=3, j=3, k=2 0.33\n",
      "For i=3, j=3, k=3 0.33\n"
     ]
    }
   ],
   "source": [
    "for i in range(1, 4):\n",
    "    for j in range(1, 4):\n",
    "        for k in range(1, 4):\n",
    "            vr = VotingRegressor(estimators, weights=[i, j, k])\n",
    "            scores = cross_val_score(vr, X, y, scoring='r2', cv=10)\n",
    "            print(\"For i={}, j={}, k={}\".format(i, j, k), np.round(np.mean(scores), 2))"
   ]
  },
  {
   "cell_type": "markdown",
   "id": "6a86de0f",
   "metadata": {},
   "source": [
    "### same algorithm with differwnt hyperparameters"
   ]
  },
  {
   "cell_type": "code",
   "execution_count": 21,
   "id": "c75f9e25",
   "metadata": {},
   "outputs": [],
   "source": [
    "# Using the same algorithm\n",
    "\n",
    "dt1 = DecisionTreeRegressor(max_depth=1)\n",
    "dt2 = DecisionTreeRegressor(max_depth=3)\n",
    "dt3 = DecisionTreeRegressor(max_depth=5)\n",
    "dt4 = DecisionTreeRegressor(max_depth=7)\n",
    "dt5 = DecisionTreeRegressor(max_depth=None)\n",
    "\n"
   ]
  },
  {
   "cell_type": "code",
   "execution_count": 23,
   "id": "1b9c5089",
   "metadata": {},
   "outputs": [
    {
     "name": "stdout",
     "output_type": "stream",
     "text": [
      "dt1 0.15\n",
      "dt2 0.28\n",
      "dt3 0.17\n",
      "dt4 -0.04\n",
      "dt5 -0.25\n"
     ]
    }
   ],
   "source": [
    "estimators = [('dt1', dt1), ('dt2', dt2), ('dt3', dt3), ('dt4', dt4), ('dt5', dt5)]\n",
    "\n",
    "for estimator in estimators:\n",
    "    scores = cross_val_score(estimator[1], X, y, scoring='r2', cv=10)\n",
    "    print(estimator[0], np.round(np.mean(scores), 2))\n",
    "\n"
   ]
  },
  {
   "cell_type": "code",
   "execution_count": 24,
   "id": "f75b63d3",
   "metadata": {},
   "outputs": [
    {
     "name": "stdout",
     "output_type": "stream",
     "text": [
      "Voting Regressor 0.21\n"
     ]
    }
   ],
   "source": [
    "vr = VotingRegressor(estimators)\n",
    "scores = cross_val_score(vr, X, y, scoring='r2', cv=10)\n",
    "print(\"Voting Regressor\", np.round(np.mean(scores), 2))"
   ]
  }
 ],
 "metadata": {
  "kernelspec": {
   "display_name": "Python 3 (ipykernel)",
   "language": "python",
   "name": "python3"
  },
  "language_info": {
   "codemirror_mode": {
    "name": "ipython",
    "version": 3
   },
   "file_extension": ".py",
   "mimetype": "text/x-python",
   "name": "python",
   "nbconvert_exporter": "python",
   "pygments_lexer": "ipython3",
   "version": "3.10.9"
  }
 },
 "nbformat": 4,
 "nbformat_minor": 5
}
