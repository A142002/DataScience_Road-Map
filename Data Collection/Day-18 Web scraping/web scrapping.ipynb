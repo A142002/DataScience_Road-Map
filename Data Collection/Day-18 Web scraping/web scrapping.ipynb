{
 "cells": [
  {
   "cell_type": "code",
   "execution_count": 1,
   "id": "2a6a79c3",
   "metadata": {},
   "outputs": [],
   "source": [
    "import pandas as pd\n",
    "import requests\n",
    "from bs4 import BeautifulSoup\n",
    "\n",
    "     "
   ]
  },
  {
   "cell_type": "code",
   "execution_count": 2,
   "id": "c1a27aa3",
   "metadata": {},
   "outputs": [],
   "source": [
    "headers={'User-Agent':'Mozilla/5.0 (Windows NT 6.3; Win 64 ; x64) Apple WeKit /537.36(KHTML , like Gecko) Chrome/80.0.3987.162 Safari/537.36'}\n",
    " \n",
    "webpage=requests.get('https://www.ambitionbox.com/list-of-companies?page=1',headers=headers).text "
   ]
  },
  {
   "cell_type": "code",
   "execution_count": 3,
   "id": "383ea280",
   "metadata": {},
   "outputs": [],
   "source": [
    "soup=BeautifulSoup(webpage,'lxml')"
   ]
  },
  {
   "cell_type": "code",
   "execution_count": 4,
   "id": "641117b3",
   "metadata": {},
   "outputs": [
    {
     "name": "stdout",
     "output_type": "stream",
     "text": [
      "<!DOCTYPE html>\n",
      "<html>\n",
      " <head>\n",
      "  <meta charset=\"utf-8\"/>\n",
      "  <meta content=\"width=device-width, initial-scale=1, shrink-to-fit=no\" name=\"viewport\"/>\n",
      "  <meta content=\"5; URL='/list-of-companies?page=1&amp;bm-verify=AAQAAAAH_____zFrEgACZTSERSpZWQOc2HRCEiZCvzi5Uj-w7S4nfgu-Rc1vmKONFUJoMBIV209DMRaueeIQY7VIEZ-ck8NX3s3z7VrgjTTfe-hRtKrZ4X3zqbDSl-mb97WCdTKSyS2F_vGOCgC72OdXHz49aQkedXzg60D8MChO7TAbrC1zxC-HpP36ww2Duo91BCsDbWQSCiInidL0m5kLN1Zlr_Jltn7wOz3v7qSAFEKF3eymdurK16Ta24EWK_YrrFLqgLFyMdfIb_KZvL0mz6cLdvHs-VBCG7r6VnIM6B8aFg'\" http-equiv=\"refresh\"/>\n",
      "  <title>\n",
      "  </title>\n",
      "  <script>\n",
      "   var i = 1686574603;\n",
      "        var j = i + Number(\"9641\" + \"68910\");\n",
      "  </script>\n",
      " </head>\n",
      " <body>\n",
      "  <noscript>\n",
      "   <iframe src=\"\" style=\"border: none; height: 100%; width: 100%;\">\n",
      "   </iframe>\n",
      "  </noscript>\n",
      "  <script>\n",
      "   var xhr = new XMLHttpRequest();\n",
      "          xhr.withCredentials = true;\n",
      "          xhr.addEventListener(\"loadend\", function() {\n",
      "              try {\n",
      "                  var data = JSON.parse(xhr.responseText);\n",
      "                  if (data.hasOwnProperty('reload')) {\n",
      "                      if (data[\"reload\"] == true) {\n",
      "                        window.location.replace(window.location.href.replace(/[&?]bm-verify=[^#]*/, \"\"));\n",
      "                        if(window.location.hash){\n",
      "                          window.location.reload();\n",
      "                        }\n",
      "                      }\n",
      "                  } else if (data.hasOwnProperty('location')) {\n",
      "                      window.location.replace(data[\"location\"]);\n",
      "\n",
      "                  } else {\n",
      "                      window.location.reload();\n",
      "                  }\n",
      "              } catch (e) {\n",
      "                  var data = {}\n",
      "                  window.location.reload();\n",
      "              }\n",
      "          });\n",
      "          xhr.open(\"POST\", \"/_sec/verify?provider=interstitial\", false);\n",
      "          xhr.setRequestHeader(\"Content-Type\", \"application/json\");\n",
      "          xhr.send(JSON.stringify({\n",
      "              \"bm-verify\": \"AAQAAAAH/////wKPP4UJQTkU2bl9vHCFVBTnMJZN6aS73x/0+ScChUjrGaY/N9TQAnTOUC6htP17gnz9otiv9UkztvSTX9xahrzeyA0hlKx5oe5EtkOTLqCEI4vdQkfdOT2WhilGzesb7Egdc8x4gQb6nA5jhs+wXIvRPWeEeJ8wZTQpJzl267iGJs+jVJzfNEWa8JPIRZ+MIEr51aaIvtrWsKDxqpOMvIRaPE1f1JwFXISGxLVNvcc4kynmlmZZWjyafat9jleLr6EItqZKaH7ZviOrouTW7kvWsy8GN1uPi/c14nGWeLllWC0YG7gkVUMtLmQ=\",\n",
      "              \"pow\": j\n",
      "          }));\n",
      "  </script>\n",
      " </body>\n",
      "</html>\n",
      "\n"
     ]
    }
   ],
   "source": [
    "print(soup.prettify())"
   ]
  },
  {
   "cell_type": "code",
   "execution_count": 5,
   "id": "4c1566b3",
   "metadata": {},
   "outputs": [
    {
     "data": {
      "text/plain": [
       "[]"
      ]
     },
     "execution_count": 5,
     "metadata": {},
     "output_type": "execute_result"
    }
   ],
   "source": [
    "soup.find_all('h1')"
   ]
  }
 ],
 "metadata": {
  "kernelspec": {
   "display_name": "Python 3 (ipykernel)",
   "language": "python",
   "name": "python3"
  },
  "language_info": {
   "codemirror_mode": {
    "name": "ipython",
    "version": 3
   },
   "file_extension": ".py",
   "mimetype": "text/x-python",
   "name": "python",
   "nbconvert_exporter": "python",
   "pygments_lexer": "ipython3",
   "version": "3.10.9"
  }
 },
 "nbformat": 4,
 "nbformat_minor": 5
}
